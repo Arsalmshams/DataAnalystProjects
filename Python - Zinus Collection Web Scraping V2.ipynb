{
 "cells": [
  {
   "cell_type": "code",
   "execution_count": 2,
   "id": "427a0cb4",
   "metadata": {},
   "outputs": [],
   "source": [
    "# Import Libraries\n",
    "\n",
    "from bs4 import BeautifulSoup\n",
    "import requests\n",
    "import time\n",
    "\n",
    "import smtplib"
   ]
  },
  {
   "cell_type": "code",
   "execution_count": 10,
   "id": "cd04f468",
   "metadata": {},
   "outputs": [
    {
     "name": "stdout",
     "output_type": "stream",
     "text": [
      "\n",
      "            Zinus Modern Studio Collection Soho Rectangular Dining Table / Table Only /Office Desk / Computer Table\n",
      "           \n",
      "\n",
      "\n",
      "\n",
      "\n",
      "\n",
      "             $139.66\n",
      "            \n",
      "\n",
      "\n",
      "              $\n",
      "             \n",
      "\n",
      "              139\n",
      "              \n",
      "               .\n",
      "              \n",
      "\n",
      "\n",
      "              66\n",
      "             \n",
      "\n",
      "\n",
      "\n",
      "\n",
      "\n",
      "\n",
      "\n",
      "\n",
      "\n",
      "\n",
      "\n",
      "\n",
      "\n",
      "\n",
      "\n",
      "\n",
      "\n",
      "\n",
      "\n",
      "                4.6 out of 5 stars\n",
      "               \n",
      "\n",
      "\n",
      "\n",
      "\n",
      "\n",
      "\n",
      "\n",
      "\n",
      "\n",
      "\n",
      "\n",
      "\n",
      "\n",
      "\n",
      "             4,389 ratings\n",
      "            \n",
      "\n",
      "\n",
      "\n",
      "\n",
      "\n"
     ]
    }
   ],
   "source": [
    "# Connect to Website\n",
    "URL = 'https://www.amazon.ca/Modern-Studio-Collection-Rectangular-Computer/dp/B073R14H7Z/ref=sr_1_4?crid=35JZGXSYMK120&keywords=zinus+table&qid=1677863435&sprefix=zinus+table%2Caps%2C128&sr=8-4'\n",
    "\n",
    "headers = {\"User-Agent\": \"Mozilla/5.0 (Windows NT 10.0; Win64; x64) AppleWebKit/537.36 (KHTML, like Gecko) Chrome/110.0.0.0 Safari/537.36\", \"Accept-Encoding\": \"gzip, deflate, br\", \"Accept\": \"text/html,application/xhtml+xml,application/xml;q=0.9,image/avif,image/webp,image/apng,*/*;q=0.8,application/signed-exchange;v=b3;q=0.7\", \"Upgrade-Insecure-Requests\": \"1\"}\n",
    "\n",
    "page = requests.get(URL, headers=headers)\n",
    "\n",
    "# Reading the product title, price and ratings\n",
    "soup1 = BeautifulSoup(page.content, \"html.parser\")\n",
    "soup2 = BeautifulSoup(soup1.prettify(), \"html.parser\")\n",
    "\n",
    "title = soup2.find(id='productTitle').get_text()\n",
    "price = soup2.find(id='corePriceDisplay_desktop_feature_div').get_text()\n",
    "ratings = soup2.find(id='averageCustomerReviews').get_text()\n",
    "\n",
    "print(title)\n",
    "print(price)\n",
    "print(ratings)"
   ]
  },
  {
   "cell_type": "code",
   "execution_count": 11,
   "id": "ee4f52d1",
   "metadata": {},
   "outputs": [
    {
     "name": "stdout",
     "output_type": "stream",
     "text": [
      "Zinus Modern Studio Collection Soho Rectangular Dining Table / Table Only /Office Desk / Computer Table\n",
      "139.66\n",
      "4.6\n"
     ]
    }
   ],
   "source": [
    "# Cleaning up title and price\n",
    "price = price.strip()[1:7]\n",
    "title = title.strip()\n",
    "ratings = ratings.strip()[0:3]\n",
    "\n",
    "print(title)\n",
    "print(price)\n",
    "print(ratings)"
   ]
  },
  {
   "cell_type": "code",
   "execution_count": 12,
   "id": "bc2c6c71",
   "metadata": {},
   "outputs": [
    {
     "data": {
      "text/plain": [
       "str"
      ]
     },
     "execution_count": 12,
     "metadata": {},
     "output_type": "execute_result"
    }
   ],
   "source": [
    "# Understanding data types\n",
    "type(price)\n",
    "# type(ratings)\n",
    "# type(title)"
   ]
  },
  {
   "cell_type": "code",
   "execution_count": 23,
   "id": "0af42940",
   "metadata": {},
   "outputs": [
    {
     "name": "stdout",
     "output_type": "stream",
     "text": [
      "2023-03-03\n"
     ]
    }
   ],
   "source": [
    "# Reading in datetime to keep track of when data was collected\n",
    "import datetime\n",
    "\n",
    "today = datetime.date.today()\n",
    "\n",
    "print(today)"
   ]
  },
  {
   "cell_type": "code",
   "execution_count": 26,
   "id": "8a3f8dd7",
   "metadata": {},
   "outputs": [],
   "source": [
    "# Importing data scraped from the web into a CSV file\n",
    "import csv\n",
    "\n",
    "header = ['Product Title', 'Price', 'Rating', 'Date']\n",
    "data = [title, price, ratings, today]\n",
    "\n",
    "# Creating CSV file\n",
    "with open('ZinusDeskWebScrapped.csv', 'w', newline='', encoding='UTF8') as f:\n",
    "    writer = csv.writer(f)\n",
    "    writer.writerow(header)\n",
    "    writer.writerow(data)\n"
   ]
  },
  {
   "cell_type": "code",
   "execution_count": 27,
   "id": "0aa1291b",
   "metadata": {},
   "outputs": [
    {
     "data": {
      "text/html": [
       "<div>\n",
       "<style scoped>\n",
       "    .dataframe tbody tr th:only-of-type {\n",
       "        vertical-align: middle;\n",
       "    }\n",
       "\n",
       "    .dataframe tbody tr th {\n",
       "        vertical-align: top;\n",
       "    }\n",
       "\n",
       "    .dataframe thead th {\n",
       "        text-align: right;\n",
       "    }\n",
       "</style>\n",
       "<table border=\"1\" class=\"dataframe\">\n",
       "  <thead>\n",
       "    <tr style=\"text-align: right;\">\n",
       "      <th></th>\n",
       "      <th>Product Title</th>\n",
       "      <th>Price</th>\n",
       "      <th>Rating</th>\n",
       "      <th>Date</th>\n",
       "    </tr>\n",
       "  </thead>\n",
       "  <tbody>\n",
       "    <tr>\n",
       "      <th>0</th>\n",
       "      <td>Zinus Modern Studio Collection Soho Rectangula...</td>\n",
       "      <td>139.66</td>\n",
       "      <td>4.6</td>\n",
       "      <td>2023-03-03</td>\n",
       "    </tr>\n",
       "  </tbody>\n",
       "</table>\n",
       "</div>"
      ],
      "text/plain": [
       "                                       Product Title   Price  Rating  \\\n",
       "0  Zinus Modern Studio Collection Soho Rectangula...  139.66     4.6   \n",
       "\n",
       "         Date  \n",
       "0  2023-03-03  "
      ]
     },
     "execution_count": 27,
     "metadata": {},
     "output_type": "execute_result"
    }
   ],
   "source": [
    "# Accessing CSV file created in the previous step\n",
    "import pandas as pd\n",
    "\n",
    "df = pd.read_csv(r'C:\\Users\\arsul\\OneDrive\\Desktop\\DA Portfolio\\Python Web Scraping\\ZinusDeskWebScrapped.csv')\n",
    "\n",
    "df.head()"
   ]
  },
  {
   "cell_type": "code",
   "execution_count": 30,
   "id": "dc86ff15",
   "metadata": {},
   "outputs": [],
   "source": [
    "# Appending data to CSV file\n",
    "\n",
    "with open('ZinusDeskWebScrapped.csv', 'a+', newline='', encoding='UTF8') as f:\n",
    "    writer = csv.writer(f)\n",
    "    writer.writerow(data)\n"
   ]
  },
  {
   "cell_type": "code",
   "execution_count": 31,
   "id": "3f81d133",
   "metadata": {},
   "outputs": [],
   "source": [
    "# Automating Price Check\n",
    "def check_price():\n",
    "    # Establishing connection\n",
    "    URL = 'https://www.amazon.ca/Modern-Studio-Collection-Rectangular-Computer/dp/B073R14H7Z/ref=sr_1_4?crid=35JZGXSYMK120&keywords=zinus+table&qid=1677863435&sprefix=zinus+table%2Caps%2C128&sr=8-4'\n",
    "    headers = {\"User-Agent\": \"Mozilla/5.0 (Windows NT 10.0; Win64; x64) AppleWebKit/537.36 (KHTML, like Gecko) Chrome/110.0.0.0 Safari/537.36\", \"Accept-Encoding\": \"gzip, deflate, br\", \"Accept\": \"text/html,application/xhtml+xml,application/xml;q=0.9,image/avif,image/webp,image/apng,*/*;q=0.8,application/signed-exchange;v=b3;q=0.7\", \"Upgrade-Insecure-Requests\": \"1\"}\n",
    "    page = requests.get(URL, headers=headers)\n",
    "\n",
    "    # Reading the product title and price\n",
    "    soup1 = BeautifulSoup(page.content, \"html.parser\")\n",
    "    soup2 = BeautifulSoup(soup1.prettify(), \"html.parser\")\n",
    "    title = soup2.find(id='productTitle').get_text()\n",
    "    price = soup2.find(id='corePriceDisplay_desktop_feature_div').get_text()\n",
    "    \n",
    "    # Cleaning up title and price\n",
    "    price = price.strip()[1:7]\n",
    "    title = title.strip()\n",
    "    \n",
    "    # Reading in datetime to keep track of when data was collected\n",
    "    import datetime\n",
    "    today = datetime.date.today()\n",
    "    \n",
    "    # Importing data scraped from the web into a CSV file\n",
    "    import csv\n",
    "    header = ['Product Title', 'Price', 'Date']\n",
    "    data = [title, price, today]\n",
    "\n",
    "    # Appending data to CSV file\n",
    "    with open('ZinusDeskWebScrapped.csv', 'a+', newline='', encoding='UTF8') as f:\n",
    "        writer = csv.writer(f)\n",
    "        writer.writerow(data)\n",
    "    \n",
    "    # Sending myself a mail when price falls below a certain value\n",
    "    if (price < 100):\n",
    "        send_mail()\n",
    "    "
   ]
  },
  {
   "cell_type": "code",
   "execution_count": null,
   "id": "8a6ff5bb",
   "metadata": {},
   "outputs": [],
   "source": [
    "# Setting price check time interval to 1 day (1 Day = 24 hours * 60 minutes * 60 seconds)\n",
    "while(True):\n",
    "    check_price()\n",
    "    time.sleep(86400)"
   ]
  },
  {
   "cell_type": "code",
   "execution_count": 32,
   "id": "ed8d006e",
   "metadata": {},
   "outputs": [],
   "source": [
    "# Send_mail function that shoots me an email with a subject line and text in the body\n",
    "# with the URL of the product the script is tracking.\n",
    "def send_mail():\n",
    "    server = smtplib.SMTP_SSL('smpt.gmail.com', 465)\n",
    "    server.ehlo()\n",
    "    server.login('Arsalmshams@gmail.com','xxxxxx')\n",
    "    \n",
    "    subject = \"The Zinus Modern Collection is selling below $100!\"\n",
    "    body = \"Hey Arsal, the Zinus Modern Collection rectangular table is selling now for less than $100! Find the product in the URL below. URL = https://www.amazon.ca/Modern-Studio-Collection-Rectangular-Computer/dp/B073R14H7Z/ref=sr_1_4?crid=35JZGXSYMK120&keywords=zinus+table&qid=1677863435&sprefix=zinus+table%2Caps%2C128&sr=8-4\"\n",
    "    \n",
    "    msg = f\"Subject: {subject}\\n\\n\\n{body}\"\n",
    "    \n",
    "    server.sendmail(\n",
    "        'Arsalmshams@gmail.com', msg)\n",
    "    "
   ]
  }
 ],
 "metadata": {
  "kernelspec": {
   "display_name": "Python 3 (ipykernel)",
   "language": "python",
   "name": "python3"
  },
  "language_info": {
   "codemirror_mode": {
    "name": "ipython",
    "version": 3
   },
   "file_extension": ".py",
   "mimetype": "text/x-python",
   "name": "python",
   "nbconvert_exporter": "python",
   "pygments_lexer": "ipython3",
   "version": "3.9.12"
  }
 },
 "nbformat": 4,
 "nbformat_minor": 5
}
